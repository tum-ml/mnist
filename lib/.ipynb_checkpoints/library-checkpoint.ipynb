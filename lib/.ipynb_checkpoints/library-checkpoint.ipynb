{
 "cells": [
  {
   "cell_type": "code",
   "execution_count": 46,
   "metadata": {
    "collapsed": false
   },
   "outputs": [
    {
     "name": "stdout",
     "output_type": "stream",
     "text": [
      "[[  0   0   0 255 255]\n",
      " [  0 255 255 255   0]]\n",
      "[[  0   0   0 255 255]\n",
      " [  0   0 255 255   0]]\n"
     ]
    }
   ],
   "source": [
    "import numpy as np\n",
    "\n",
    "def thresholding(image,th=128):\n",
    "    image = np.array(image)\n",
    "    image = image>th\n",
    "    return image*255\n",
    "\n",
    "def thinning(image,th=3):\n",
    "    image = np.array(image)\n",
    "    for i in range(image.shape[0]):\n",
    "        for j in range(image.shape[1]):\n",
    "            sum = np.sum(image[i,j:j+th])\n",
    "            if(sum==th*255):\n",
    "                image[i,j]=0\n",
    "                j = j+th-1\n",
    "    return image\n",
    "           \n",
    "                \n",
    "\n",
    "img = thresholding([[1,2,3,4,5],[1,4,55,13,1]],3)\n",
    "print(img)\n",
    "img = thinning(img)\n",
    "print(img)"
   ]
  },
  {
   "cell_type": "code",
   "execution_count": null,
   "metadata": {
    "collapsed": true
   },
   "outputs": [],
   "source": []
  }
 ],
 "metadata": {
  "kernelspec": {
   "display_name": "Python 3",
   "language": "python",
   "name": "python3"
  },
  "language_info": {
   "codemirror_mode": {
    "name": "ipython",
    "version": 3
   },
   "file_extension": ".py",
   "mimetype": "text/x-python",
   "name": "python",
   "nbconvert_exporter": "python",
   "pygments_lexer": "ipython3",
   "version": "3.5.2"
  }
 },
 "nbformat": 4,
 "nbformat_minor": 1
}
